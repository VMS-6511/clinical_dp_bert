{
 "cells": [
  {
   "cell_type": "markdown",
   "metadata": {},
   "source": [
    "# Understanding the Amount of MIMIC Notes"
   ]
  },
  {
   "cell_type": "code",
   "execution_count": 1,
   "metadata": {},
   "outputs": [],
   "source": [
    "import pandas as pd\n",
    "import numpy as np\n",
    "from sklearn.model_selection import train_test_split\n",
    "import os"
   ]
  },
  {
   "cell_type": "code",
   "execution_count": 4,
   "metadata": {},
   "outputs": [
    {
     "name": "stdout",
     "output_type": "stream",
     "text": [
      "/scratch/ssd001/home/vinithms/ML_Linkage_Attacks/notebooks\n"
     ]
    }
   ],
   "source": [
    "cd ."
   ]
  },
  {
   "cell_type": "code",
   "execution_count": 5,
   "metadata": {},
   "outputs": [],
   "source": [
    "NOTES_CSV='/scratch/hdd001/home/vinithms/mimic_bert/NOTEEVENTS.csv'"
   ]
  },
  {
   "cell_type": "code",
   "execution_count": 6,
   "metadata": {},
   "outputs": [],
   "source": [
    "notes_chunks_csv = pd.read_csv(NOTES_CSV,chunksize=100000)"
   ]
  },
  {
   "cell_type": "code",
   "execution_count": 7,
   "metadata": {},
   "outputs": [
    {
     "name": "stderr",
     "output_type": "stream",
     "text": [
      "/pkgs/anaconda3/lib/python3.6/site-packages/IPython/core/interactiveshell.py:3325: DtypeWarning: Columns (5) have mixed types. Specify dtype option on import or set low_memory=False.\n",
      "  exec(code_obj, self.user_global_ns, self.user_ns)\n"
     ]
    }
   ],
   "source": [
    "notes_df = pd.concat(notes_chunks_csv)"
   ]
  },
  {
   "cell_type": "code",
   "execution_count": 8,
   "metadata": {},
   "outputs": [
    {
     "data": {
      "text/html": [
       "<div>\n",
       "<style scoped>\n",
       "    .dataframe tbody tr th:only-of-type {\n",
       "        vertical-align: middle;\n",
       "    }\n",
       "\n",
       "    .dataframe tbody tr th {\n",
       "        vertical-align: top;\n",
       "    }\n",
       "\n",
       "    .dataframe thead th {\n",
       "        text-align: right;\n",
       "    }\n",
       "</style>\n",
       "<table border=\"1\" class=\"dataframe\">\n",
       "  <thead>\n",
       "    <tr style=\"text-align: right;\">\n",
       "      <th></th>\n",
       "      <th>ROW_ID</th>\n",
       "      <th>SUBJECT_ID</th>\n",
       "      <th>HADM_ID</th>\n",
       "      <th>CHARTDATE</th>\n",
       "      <th>CHARTTIME</th>\n",
       "      <th>STORETIME</th>\n",
       "      <th>CATEGORY</th>\n",
       "      <th>DESCRIPTION</th>\n",
       "      <th>CGID</th>\n",
       "      <th>ISERROR</th>\n",
       "      <th>TEXT</th>\n",
       "    </tr>\n",
       "  </thead>\n",
       "  <tbody>\n",
       "    <tr>\n",
       "      <th>0</th>\n",
       "      <td>174</td>\n",
       "      <td>22532</td>\n",
       "      <td>167853.0</td>\n",
       "      <td>2151-08-04</td>\n",
       "      <td>NaN</td>\n",
       "      <td>NaN</td>\n",
       "      <td>Discharge summary</td>\n",
       "      <td>Report</td>\n",
       "      <td>NaN</td>\n",
       "      <td>NaN</td>\n",
       "      <td>Admission Date:  [**2151-7-16**]       Dischar...</td>\n",
       "    </tr>\n",
       "    <tr>\n",
       "      <th>1</th>\n",
       "      <td>175</td>\n",
       "      <td>13702</td>\n",
       "      <td>107527.0</td>\n",
       "      <td>2118-06-14</td>\n",
       "      <td>NaN</td>\n",
       "      <td>NaN</td>\n",
       "      <td>Discharge summary</td>\n",
       "      <td>Report</td>\n",
       "      <td>NaN</td>\n",
       "      <td>NaN</td>\n",
       "      <td>Admission Date:  [**2118-6-2**]       Discharg...</td>\n",
       "    </tr>\n",
       "    <tr>\n",
       "      <th>2</th>\n",
       "      <td>176</td>\n",
       "      <td>13702</td>\n",
       "      <td>167118.0</td>\n",
       "      <td>2119-05-25</td>\n",
       "      <td>NaN</td>\n",
       "      <td>NaN</td>\n",
       "      <td>Discharge summary</td>\n",
       "      <td>Report</td>\n",
       "      <td>NaN</td>\n",
       "      <td>NaN</td>\n",
       "      <td>Admission Date:  [**2119-5-4**]              D...</td>\n",
       "    </tr>\n",
       "    <tr>\n",
       "      <th>3</th>\n",
       "      <td>177</td>\n",
       "      <td>13702</td>\n",
       "      <td>196489.0</td>\n",
       "      <td>2124-08-18</td>\n",
       "      <td>NaN</td>\n",
       "      <td>NaN</td>\n",
       "      <td>Discharge summary</td>\n",
       "      <td>Report</td>\n",
       "      <td>NaN</td>\n",
       "      <td>NaN</td>\n",
       "      <td>Admission Date:  [**2124-7-21**]              ...</td>\n",
       "    </tr>\n",
       "    <tr>\n",
       "      <th>4</th>\n",
       "      <td>178</td>\n",
       "      <td>26880</td>\n",
       "      <td>135453.0</td>\n",
       "      <td>2162-03-25</td>\n",
       "      <td>NaN</td>\n",
       "      <td>NaN</td>\n",
       "      <td>Discharge summary</td>\n",
       "      <td>Report</td>\n",
       "      <td>NaN</td>\n",
       "      <td>NaN</td>\n",
       "      <td>Admission Date:  [**2162-3-3**]              D...</td>\n",
       "    </tr>\n",
       "  </tbody>\n",
       "</table>\n",
       "</div>"
      ],
      "text/plain": [
       "   ROW_ID  SUBJECT_ID   HADM_ID   CHARTDATE CHARTTIME STORETIME  \\\n",
       "0     174       22532  167853.0  2151-08-04       NaN       NaN   \n",
       "1     175       13702  107527.0  2118-06-14       NaN       NaN   \n",
       "2     176       13702  167118.0  2119-05-25       NaN       NaN   \n",
       "3     177       13702  196489.0  2124-08-18       NaN       NaN   \n",
       "4     178       26880  135453.0  2162-03-25       NaN       NaN   \n",
       "\n",
       "            CATEGORY DESCRIPTION  CGID  ISERROR  \\\n",
       "0  Discharge summary      Report   NaN      NaN   \n",
       "1  Discharge summary      Report   NaN      NaN   \n",
       "2  Discharge summary      Report   NaN      NaN   \n",
       "3  Discharge summary      Report   NaN      NaN   \n",
       "4  Discharge summary      Report   NaN      NaN   \n",
       "\n",
       "                                                TEXT  \n",
       "0  Admission Date:  [**2151-7-16**]       Dischar...  \n",
       "1  Admission Date:  [**2118-6-2**]       Discharg...  \n",
       "2  Admission Date:  [**2119-5-4**]              D...  \n",
       "3  Admission Date:  [**2124-7-21**]              ...  \n",
       "4  Admission Date:  [**2162-3-3**]              D...  "
      ]
     },
     "execution_count": 8,
     "metadata": {},
     "output_type": "execute_result"
    }
   ],
   "source": [
    "notes_df.head()"
   ]
  },
  {
   "cell_type": "code",
   "execution_count": 24,
   "metadata": {},
   "outputs": [
    {
     "data": {
      "text/plain": [
       "Nursing/other        822497\n",
       "Radiology            522279\n",
       "Nursing              223556\n",
       "ECG                  209051\n",
       "Physician            141624\n",
       "Discharge summary     59652\n",
       "Echo                  45794\n",
       "Respiratory           31739\n",
       "Nutrition              9418\n",
       "General                8301\n",
       "Rehab Services         5431\n",
       "Social Work            2670\n",
       "Case Management         967\n",
       "Pharmacy                103\n",
       "Consult                  98\n",
       "Name: CATEGORY, dtype: int64"
      ]
     },
     "execution_count": 24,
     "metadata": {},
     "output_type": "execute_result"
    }
   ],
   "source": [
    "notes_df.CATEGORY.value_counts()"
   ]
  },
  {
   "cell_type": "code",
   "execution_count": 25,
   "metadata": {},
   "outputs": [],
   "source": [
    "data_dir=\"/scratch/hdd001/home/vinithms/ml_linkage_attacks/mimic-years/\"\n",
    "OUTCOMES_DIR=os.path.join(data_dir, 'static_data.csv')\n",
    "max_time=24\n",
    "gap_time=12\n",
    "idx = pd.IndexSlice"
   ]
  },
  {
   "cell_type": "markdown",
   "metadata": {},
   "source": [
    "## Combine with labels"
   ]
  },
  {
   "cell_type": "code",
   "execution_count": 26,
   "metadata": {},
   "outputs": [
    {
     "name": "stderr",
     "output_type": "stream",
     "text": [
      "/pkgs/anaconda3/lib/python3.6/site-packages/ipykernel_launcher.py:15: FutureWarning: .set_labels was deprecated in version 0.24.0. Use .set_codes instead.\n",
      "  from ipykernel import kernelapp as app\n"
     ]
    }
   ],
   "source": [
    "    y_df=pd.read_csv(OUTCOMES_DIR)\n",
    "    y_df=y_df.set_index(['subject_id', 'hadm_id'])\n",
    "    #rename the index to match other columns\n",
    "#     y_df.index.rename([name.encode() for name in y_df.index.names], inplace=True)\n",
    "\n",
    "    #rename the columns to match other column levels\n",
    "    column_names=y_df.columns.tolist()\n",
    "\n",
    "    for i in range(3):\n",
    "        y_df=pd.concat([y_df], axis=1, keys=['OUTCOMES']).swaplevel(0, 1, 1).swaplevel(0, 1, 1)\n",
    "    for level, item in enumerate(['itemid'.encode(),'label'.encode(),'LEVEL1'.encode(),'LEVEL2'.encode()]):\n",
    "        y_df.columns=y_df.columns.rename(item, level=level)\n",
    "        y_df.columns.set_levels(column_names,level=level,inplace=True)\n",
    "\n",
    "    y_df.columns.set_labels([[i for i in range(len(y_df.columns.levels[0]))] for i in range(4)],level=[0,1,2,3],inplace=True)\n",
    "\n",
    "    y_df.loc[:, (slice(None), slice(None), slice(None), 'los_icu')]*=24 #icu data from days to hours\n",
    "\n",
    "    mask = y_df.loc[:,(slice(None), slice(None), slice(None), 'los_icu')].values>max_time+gap_time\n",
    "    y_df=y_df.loc[idx[mask, :, :], :]\n",
    "\n",
    "    outcomes_df=y_df.copy()\n",
    "\n",
    "\n",
    "    categories=['asian', 'black', 'hispanic','white']\n",
    "\n",
    "    name=y_df.loc[:, idx[:,:,:,'ethnicity']].values.ravel()\n",
    "    for category in categories:\n",
    "        name[[i for i, item in enumerate(name) if category in item.lower()]]=category\n",
    "    name[[i for i, item in enumerate(name) if item not in categories]]='other'\n",
    "\n",
    "    for category in categories+['other']:\n",
    "        y_df.loc[:, idx[category, category, category,category]]=[1 if item in category else 0 for item in name]\n",
    "\n",
    "    #same for gender\n",
    "    name=y_df.loc[:, idx[:,:,:,'gender']].values.ravel()\n",
    "    y_df.loc[:, idx['F','F','F','F']]=[1 if 'f' in item.lower() else 0 for item in name]\n",
    "    y_df.loc[:, idx['M','M','M','M']]=[1 if 'm' in item.lower() else 0 for item in name]\n",
    "\n",
    "\n",
    "\n",
    "\n",
    "    \n",
    "    #apply common indices\n",
    "    label_df=outcomes_df.copy()\n",
    "\n",
    "    label_df.columns=label_df.columns.droplevel([0,1,2]) # only do this once\n",
    "\n",
    "    label_df['los_3']=np.zeros((len(label_df),1)).ravel()\n",
    "    label_df.loc[label_df['los_icu']>=3*24, 'los_3']=1"
   ]
  },
  {
   "cell_type": "code",
   "execution_count": 27,
   "metadata": {},
   "outputs": [
    {
     "data": {
      "text/html": [
       "<div>\n",
       "<style scoped>\n",
       "    .dataframe tbody tr th:only-of-type {\n",
       "        vertical-align: middle;\n",
       "    }\n",
       "\n",
       "    .dataframe tbody tr th {\n",
       "        vertical-align: top;\n",
       "    }\n",
       "\n",
       "    .dataframe thead th {\n",
       "        text-align: right;\n",
       "    }\n",
       "</style>\n",
       "<table border=\"1\" class=\"dataframe\">\n",
       "  <thead>\n",
       "    <tr style=\"text-align: right;\">\n",
       "      <th></th>\n",
       "      <th>b'LEVEL2'</th>\n",
       "      <th>icustay_id</th>\n",
       "      <th>gender</th>\n",
       "      <th>ethnicity</th>\n",
       "      <th>age</th>\n",
       "      <th>insurance</th>\n",
       "      <th>admittime</th>\n",
       "      <th>diagnosis_at_admission</th>\n",
       "      <th>dischtime</th>\n",
       "      <th>discharge_location</th>\n",
       "      <th>fullcode_first</th>\n",
       "      <th>...</th>\n",
       "      <th>outtime</th>\n",
       "      <th>los_icu</th>\n",
       "      <th>admission_type</th>\n",
       "      <th>first_careunit</th>\n",
       "      <th>mort_icu</th>\n",
       "      <th>mort_hosp</th>\n",
       "      <th>hospital_expire_flag</th>\n",
       "      <th>hospstay_seq</th>\n",
       "      <th>readmission_30</th>\n",
       "      <th>los_3</th>\n",
       "    </tr>\n",
       "    <tr>\n",
       "      <th>subject_id</th>\n",
       "      <th>hadm_id</th>\n",
       "      <th></th>\n",
       "      <th></th>\n",
       "      <th></th>\n",
       "      <th></th>\n",
       "      <th></th>\n",
       "      <th></th>\n",
       "      <th></th>\n",
       "      <th></th>\n",
       "      <th></th>\n",
       "      <th></th>\n",
       "      <th></th>\n",
       "      <th></th>\n",
       "      <th></th>\n",
       "      <th></th>\n",
       "      <th></th>\n",
       "      <th></th>\n",
       "      <th></th>\n",
       "      <th></th>\n",
       "      <th></th>\n",
       "      <th></th>\n",
       "      <th></th>\n",
       "    </tr>\n",
       "  </thead>\n",
       "  <tbody>\n",
       "    <tr>\n",
       "      <th>3</th>\n",
       "      <th>145834</th>\n",
       "      <td>211552</td>\n",
       "      <td>M</td>\n",
       "      <td>WHITE</td>\n",
       "      <td>76.5268</td>\n",
       "      <td>Medicare</td>\n",
       "      <td>2101-10-20 19:08:00</td>\n",
       "      <td>HYPOTENSION</td>\n",
       "      <td>2101-10-31 13:58:00</td>\n",
       "      <td>SNF</td>\n",
       "      <td>1.0</td>\n",
       "      <td>...</td>\n",
       "      <td>2101-10-26 20:43:09</td>\n",
       "      <td>145.5504</td>\n",
       "      <td>EMERGENCY</td>\n",
       "      <td>MICU</td>\n",
       "      <td>0</td>\n",
       "      <td>0</td>\n",
       "      <td>0</td>\n",
       "      <td>1</td>\n",
       "      <td>0</td>\n",
       "      <td>1.0</td>\n",
       "    </tr>\n",
       "    <tr>\n",
       "      <th>4</th>\n",
       "      <th>185777</th>\n",
       "      <td>294638</td>\n",
       "      <td>F</td>\n",
       "      <td>WHITE</td>\n",
       "      <td>47.8450</td>\n",
       "      <td>Private</td>\n",
       "      <td>2191-03-16 00:28:00</td>\n",
       "      <td>FEVER,DEHYDRATION,FAILURE TO THRIVE</td>\n",
       "      <td>2191-03-23 18:41:00</td>\n",
       "      <td>HOME WITH HOME IV PROVIDR</td>\n",
       "      <td>1.0</td>\n",
       "      <td>...</td>\n",
       "      <td>2191-03-17 16:46:31</td>\n",
       "      <td>40.2840</td>\n",
       "      <td>EMERGENCY</td>\n",
       "      <td>MICU</td>\n",
       "      <td>0</td>\n",
       "      <td>0</td>\n",
       "      <td>0</td>\n",
       "      <td>1</td>\n",
       "      <td>0</td>\n",
       "      <td>0.0</td>\n",
       "    </tr>\n",
       "    <tr>\n",
       "      <th>6</th>\n",
       "      <th>107064</th>\n",
       "      <td>228232</td>\n",
       "      <td>F</td>\n",
       "      <td>WHITE</td>\n",
       "      <td>65.9407</td>\n",
       "      <td>Medicare</td>\n",
       "      <td>2175-05-30 07:15:00</td>\n",
       "      <td>CHRONIC RENAL FAILURE/SDA</td>\n",
       "      <td>2175-06-15 16:00:00</td>\n",
       "      <td>HOME HEALTH CARE</td>\n",
       "      <td>1.0</td>\n",
       "      <td>...</td>\n",
       "      <td>2175-06-03 13:39:54</td>\n",
       "      <td>88.1496</td>\n",
       "      <td>ELECTIVE</td>\n",
       "      <td>SICU</td>\n",
       "      <td>0</td>\n",
       "      <td>0</td>\n",
       "      <td>0</td>\n",
       "      <td>1</td>\n",
       "      <td>0</td>\n",
       "      <td>1.0</td>\n",
       "    </tr>\n",
       "    <tr>\n",
       "      <th>9</th>\n",
       "      <th>150750</th>\n",
       "      <td>220597</td>\n",
       "      <td>M</td>\n",
       "      <td>UNKNOWN/NOT SPECIFIED</td>\n",
       "      <td>41.7902</td>\n",
       "      <td>Medicaid</td>\n",
       "      <td>2149-11-09 13:06:00</td>\n",
       "      <td>HEMORRHAGIC CVA</td>\n",
       "      <td>2149-11-14 10:15:00</td>\n",
       "      <td>DEAD/EXPIRED</td>\n",
       "      <td>1.0</td>\n",
       "      <td>...</td>\n",
       "      <td>2149-11-14 20:52:14</td>\n",
       "      <td>127.7544</td>\n",
       "      <td>EMERGENCY</td>\n",
       "      <td>MICU</td>\n",
       "      <td>1</td>\n",
       "      <td>1</td>\n",
       "      <td>1</td>\n",
       "      <td>1</td>\n",
       "      <td>0</td>\n",
       "      <td>1.0</td>\n",
       "    </tr>\n",
       "    <tr>\n",
       "      <th>11</th>\n",
       "      <th>194540</th>\n",
       "      <td>229441</td>\n",
       "      <td>F</td>\n",
       "      <td>WHITE</td>\n",
       "      <td>50.1483</td>\n",
       "      <td>Private</td>\n",
       "      <td>2178-04-16 06:18:00</td>\n",
       "      <td>BRAIN MASS</td>\n",
       "      <td>2178-05-11 19:00:00</td>\n",
       "      <td>HOME HEALTH CARE</td>\n",
       "      <td>1.0</td>\n",
       "      <td>...</td>\n",
       "      <td>2178-04-17 20:21:05</td>\n",
       "      <td>38.0256</td>\n",
       "      <td>EMERGENCY</td>\n",
       "      <td>SICU</td>\n",
       "      <td>0</td>\n",
       "      <td>0</td>\n",
       "      <td>0</td>\n",
       "      <td>1</td>\n",
       "      <td>0</td>\n",
       "      <td>0.0</td>\n",
       "    </tr>\n",
       "  </tbody>\n",
       "</table>\n",
       "<p>5 rows × 32 columns</p>\n",
       "</div>"
      ],
      "text/plain": [
       "b'LEVEL2'           icustay_id gender              ethnicity      age  \\\n",
       "subject_id hadm_id                                                      \n",
       "3          145834       211552      M                  WHITE  76.5268   \n",
       "4          185777       294638      F                  WHITE  47.8450   \n",
       "6          107064       228232      F                  WHITE  65.9407   \n",
       "9          150750       220597      M  UNKNOWN/NOT SPECIFIED  41.7902   \n",
       "11         194540       229441      F                  WHITE  50.1483   \n",
       "\n",
       "b'LEVEL2'          insurance            admittime  \\\n",
       "subject_id hadm_id                                  \n",
       "3          145834   Medicare  2101-10-20 19:08:00   \n",
       "4          185777    Private  2191-03-16 00:28:00   \n",
       "6          107064   Medicare  2175-05-30 07:15:00   \n",
       "9          150750   Medicaid  2149-11-09 13:06:00   \n",
       "11         194540    Private  2178-04-16 06:18:00   \n",
       "\n",
       "b'LEVEL2'                        diagnosis_at_admission            dischtime  \\\n",
       "subject_id hadm_id                                                             \n",
       "3          145834                           HYPOTENSION  2101-10-31 13:58:00   \n",
       "4          185777   FEVER,DEHYDRATION,FAILURE TO THRIVE  2191-03-23 18:41:00   \n",
       "6          107064             CHRONIC RENAL FAILURE/SDA  2175-06-15 16:00:00   \n",
       "9          150750                       HEMORRHAGIC CVA  2149-11-14 10:15:00   \n",
       "11         194540                            BRAIN MASS  2178-05-11 19:00:00   \n",
       "\n",
       "b'LEVEL2'                  discharge_location  fullcode_first  ...  \\\n",
       "subject_id hadm_id                                             ...   \n",
       "3          145834                         SNF             1.0  ...   \n",
       "4          185777   HOME WITH HOME IV PROVIDR             1.0  ...   \n",
       "6          107064            HOME HEALTH CARE             1.0  ...   \n",
       "9          150750                DEAD/EXPIRED             1.0  ...   \n",
       "11         194540            HOME HEALTH CARE             1.0  ...   \n",
       "\n",
       "b'LEVEL2'                       outtime   los_icu  admission_type  \\\n",
       "subject_id hadm_id                                                  \n",
       "3          145834   2101-10-26 20:43:09  145.5504       EMERGENCY   \n",
       "4          185777   2191-03-17 16:46:31   40.2840       EMERGENCY   \n",
       "6          107064   2175-06-03 13:39:54   88.1496        ELECTIVE   \n",
       "9          150750   2149-11-14 20:52:14  127.7544       EMERGENCY   \n",
       "11         194540   2178-04-17 20:21:05   38.0256       EMERGENCY   \n",
       "\n",
       "b'LEVEL2'          first_careunit  mort_icu  mort_hosp  hospital_expire_flag  \\\n",
       "subject_id hadm_id                                                             \n",
       "3          145834            MICU         0          0                     0   \n",
       "4          185777            MICU         0          0                     0   \n",
       "6          107064            SICU         0          0                     0   \n",
       "9          150750            MICU         1          1                     1   \n",
       "11         194540            SICU         0          0                     0   \n",
       "\n",
       "b'LEVEL2'           hospstay_seq readmission_30 los_3  \n",
       "subject_id hadm_id                                     \n",
       "3          145834              1              0   1.0  \n",
       "4          185777              1              0   0.0  \n",
       "6          107064              1              0   1.0  \n",
       "9          150750              1              0   1.0  \n",
       "11         194540              1              0   0.0  \n",
       "\n",
       "[5 rows x 32 columns]"
      ]
     },
     "execution_count": 27,
     "metadata": {},
     "output_type": "execute_result"
    }
   ],
   "source": [
    "label_df.head()"
   ]
  },
  {
   "cell_type": "code",
   "execution_count": 29,
   "metadata": {},
   "outputs": [],
   "source": [
    "label_df.reset_index(level=0, inplace=True)"
   ]
  },
  {
   "cell_type": "code",
   "execution_count": 30,
   "metadata": {},
   "outputs": [],
   "source": [
    "del label_df.columns.name"
   ]
  },
  {
   "cell_type": "code",
   "execution_count": 32,
   "metadata": {},
   "outputs": [
    {
     "data": {
      "text/plain": [
       "(2083180, 11)"
      ]
     },
     "execution_count": 32,
     "metadata": {},
     "output_type": "execute_result"
    }
   ],
   "source": [
    "notes_df.shape"
   ]
  },
  {
   "cell_type": "code",
   "execution_count": 33,
   "metadata": {},
   "outputs": [],
   "source": [
    "subset_label_df = label_df[['hadm_id','subject_id','icustay_id','gender','ethnicity','age','insurance','mort_icu','readmission_30','los_3']]"
   ]
  },
  {
   "cell_type": "code",
   "execution_count": 34,
   "metadata": {},
   "outputs": [
    {
     "data": {
      "text/html": [
       "<div>\n",
       "<style scoped>\n",
       "    .dataframe tbody tr th:only-of-type {\n",
       "        vertical-align: middle;\n",
       "    }\n",
       "\n",
       "    .dataframe tbody tr th {\n",
       "        vertical-align: top;\n",
       "    }\n",
       "\n",
       "    .dataframe thead th {\n",
       "        text-align: right;\n",
       "    }\n",
       "</style>\n",
       "<table border=\"1\" class=\"dataframe\">\n",
       "  <thead>\n",
       "    <tr style=\"text-align: right;\">\n",
       "      <th></th>\n",
       "      <th>hadm_id</th>\n",
       "      <th>subject_id</th>\n",
       "      <th>icustay_id</th>\n",
       "      <th>gender</th>\n",
       "      <th>ethnicity</th>\n",
       "      <th>age</th>\n",
       "      <th>insurance</th>\n",
       "      <th>mort_icu</th>\n",
       "      <th>readmission_30</th>\n",
       "      <th>los_3</th>\n",
       "    </tr>\n",
       "  </thead>\n",
       "  <tbody>\n",
       "    <tr>\n",
       "      <th>0</th>\n",
       "      <td>145834</td>\n",
       "      <td>3</td>\n",
       "      <td>211552</td>\n",
       "      <td>M</td>\n",
       "      <td>WHITE</td>\n",
       "      <td>76.5268</td>\n",
       "      <td>Medicare</td>\n",
       "      <td>0</td>\n",
       "      <td>0</td>\n",
       "      <td>1.0</td>\n",
       "    </tr>\n",
       "    <tr>\n",
       "      <th>1</th>\n",
       "      <td>185777</td>\n",
       "      <td>4</td>\n",
       "      <td>294638</td>\n",
       "      <td>F</td>\n",
       "      <td>WHITE</td>\n",
       "      <td>47.8450</td>\n",
       "      <td>Private</td>\n",
       "      <td>0</td>\n",
       "      <td>0</td>\n",
       "      <td>0.0</td>\n",
       "    </tr>\n",
       "    <tr>\n",
       "      <th>2</th>\n",
       "      <td>107064</td>\n",
       "      <td>6</td>\n",
       "      <td>228232</td>\n",
       "      <td>F</td>\n",
       "      <td>WHITE</td>\n",
       "      <td>65.9407</td>\n",
       "      <td>Medicare</td>\n",
       "      <td>0</td>\n",
       "      <td>0</td>\n",
       "      <td>1.0</td>\n",
       "    </tr>\n",
       "    <tr>\n",
       "      <th>3</th>\n",
       "      <td>150750</td>\n",
       "      <td>9</td>\n",
       "      <td>220597</td>\n",
       "      <td>M</td>\n",
       "      <td>UNKNOWN/NOT SPECIFIED</td>\n",
       "      <td>41.7902</td>\n",
       "      <td>Medicaid</td>\n",
       "      <td>1</td>\n",
       "      <td>0</td>\n",
       "      <td>1.0</td>\n",
       "    </tr>\n",
       "    <tr>\n",
       "      <th>4</th>\n",
       "      <td>194540</td>\n",
       "      <td>11</td>\n",
       "      <td>229441</td>\n",
       "      <td>F</td>\n",
       "      <td>WHITE</td>\n",
       "      <td>50.1483</td>\n",
       "      <td>Private</td>\n",
       "      <td>0</td>\n",
       "      <td>0</td>\n",
       "      <td>0.0</td>\n",
       "    </tr>\n",
       "  </tbody>\n",
       "</table>\n",
       "</div>"
      ],
      "text/plain": [
       "   hadm_id  subject_id  icustay_id gender              ethnicity      age  \\\n",
       "0   145834           3      211552      M                  WHITE  76.5268   \n",
       "1   185777           4      294638      F                  WHITE  47.8450   \n",
       "2   107064           6      228232      F                  WHITE  65.9407   \n",
       "3   150750           9      220597      M  UNKNOWN/NOT SPECIFIED  41.7902   \n",
       "4   194540          11      229441      F                  WHITE  50.1483   \n",
       "\n",
       "  insurance  mort_icu  readmission_30  los_3  \n",
       "0  Medicare         0               0    1.0  \n",
       "1   Private         0               0    0.0  \n",
       "2  Medicare         0               0    1.0  \n",
       "3  Medicaid         1               0    1.0  \n",
       "4   Private         0               0    0.0  "
      ]
     },
     "execution_count": 34,
     "metadata": {},
     "output_type": "execute_result"
    }
   ],
   "source": [
    "subset_label_df.head()"
   ]
  },
  {
   "cell_type": "code",
   "execution_count": 35,
   "metadata": {},
   "outputs": [],
   "source": [
    "notes_labels_df = pd.merge(notes_df,subset_label_df, left_on=['SUBJECT_ID','HADM_ID'], right_on=['subject_id','hadm_id'])"
   ]
  },
  {
   "cell_type": "code",
   "execution_count": 37,
   "metadata": {},
   "outputs": [
    {
     "data": {
      "text/plain": [
       "(560843, 21)"
      ]
     },
     "execution_count": 37,
     "metadata": {},
     "output_type": "execute_result"
    }
   ],
   "source": [
    "notes_labels_df.shape"
   ]
  },
  {
   "cell_type": "code",
   "execution_count": 21,
   "metadata": {},
   "outputs": [],
   "source": [
    "nurse_phys_df = notes_labels_df.loc[notes_labels_df['CATEGORY'].isin(['Physician ','Nursing'])]"
   ]
  },
  {
   "cell_type": "code",
   "execution_count": 22,
   "metadata": {},
   "outputs": [
    {
     "data": {
      "text/html": [
       "<div>\n",
       "<style scoped>\n",
       "    .dataframe tbody tr th:only-of-type {\n",
       "        vertical-align: middle;\n",
       "    }\n",
       "\n",
       "    .dataframe tbody tr th {\n",
       "        vertical-align: top;\n",
       "    }\n",
       "\n",
       "    .dataframe thead th {\n",
       "        text-align: right;\n",
       "    }\n",
       "</style>\n",
       "<table border=\"1\" class=\"dataframe\">\n",
       "  <thead>\n",
       "    <tr style=\"text-align: right;\">\n",
       "      <th></th>\n",
       "      <th>ROW_ID</th>\n",
       "      <th>SUBJECT_ID</th>\n",
       "      <th>HADM_ID</th>\n",
       "      <th>CHARTDATE</th>\n",
       "      <th>CHARTTIME</th>\n",
       "      <th>STORETIME</th>\n",
       "      <th>CATEGORY</th>\n",
       "      <th>DESCRIPTION</th>\n",
       "      <th>CGID</th>\n",
       "      <th>ISERROR</th>\n",
       "      <th>...</th>\n",
       "      <th>hadm_id</th>\n",
       "      <th>subject_id</th>\n",
       "      <th>icustay_id</th>\n",
       "      <th>gender</th>\n",
       "      <th>ethnicity</th>\n",
       "      <th>age</th>\n",
       "      <th>insurance</th>\n",
       "      <th>mort_icu</th>\n",
       "      <th>readmission_30</th>\n",
       "      <th>los_3</th>\n",
       "    </tr>\n",
       "  </thead>\n",
       "  <tbody>\n",
       "    <tr>\n",
       "      <th>527</th>\n",
       "      <td>729404</td>\n",
       "      <td>82559</td>\n",
       "      <td>197325.0</td>\n",
       "      <td>2157-02-02</td>\n",
       "      <td>2157-02-02 00:59:00</td>\n",
       "      <td>2157-02-02 06:10:58</td>\n",
       "      <td>Nursing</td>\n",
       "      <td>Nursing Progress Note</td>\n",
       "      <td>16934.0</td>\n",
       "      <td>NaN</td>\n",
       "      <td>...</td>\n",
       "      <td>197325</td>\n",
       "      <td>82559</td>\n",
       "      <td>259299</td>\n",
       "      <td>F</td>\n",
       "      <td>WHITE</td>\n",
       "      <td>85.9256</td>\n",
       "      <td>Medicare</td>\n",
       "      <td>0</td>\n",
       "      <td>0</td>\n",
       "      <td>0.0</td>\n",
       "    </tr>\n",
       "    <tr>\n",
       "      <th>528</th>\n",
       "      <td>729762</td>\n",
       "      <td>82559</td>\n",
       "      <td>197325.0</td>\n",
       "      <td>2157-02-03</td>\n",
       "      <td>2157-02-03 11:10:00</td>\n",
       "      <td>2157-02-03 11:10:15</td>\n",
       "      <td>Nursing</td>\n",
       "      <td>Nursing Transfer Note</td>\n",
       "      <td>15526.0</td>\n",
       "      <td>NaN</td>\n",
       "      <td>...</td>\n",
       "      <td>197325</td>\n",
       "      <td>82559</td>\n",
       "      <td>259299</td>\n",
       "      <td>F</td>\n",
       "      <td>WHITE</td>\n",
       "      <td>85.9256</td>\n",
       "      <td>Medicare</td>\n",
       "      <td>0</td>\n",
       "      <td>0</td>\n",
       "      <td>0.0</td>\n",
       "    </tr>\n",
       "    <tr>\n",
       "      <th>529</th>\n",
       "      <td>729768</td>\n",
       "      <td>82559</td>\n",
       "      <td>197325.0</td>\n",
       "      <td>2157-02-03</td>\n",
       "      <td>2157-02-03 11:10:00</td>\n",
       "      <td>2157-02-03 11:56:06</td>\n",
       "      <td>Nursing</td>\n",
       "      <td>Nursing Transfer Note</td>\n",
       "      <td>15526.0</td>\n",
       "      <td>NaN</td>\n",
       "      <td>...</td>\n",
       "      <td>197325</td>\n",
       "      <td>82559</td>\n",
       "      <td>259299</td>\n",
       "      <td>F</td>\n",
       "      <td>WHITE</td>\n",
       "      <td>85.9256</td>\n",
       "      <td>Medicare</td>\n",
       "      <td>0</td>\n",
       "      <td>0</td>\n",
       "      <td>0.0</td>\n",
       "    </tr>\n",
       "    <tr>\n",
       "      <th>530</th>\n",
       "      <td>729741</td>\n",
       "      <td>82559</td>\n",
       "      <td>197325.0</td>\n",
       "      <td>2157-02-03</td>\n",
       "      <td>2157-02-03 10:29:00</td>\n",
       "      <td>2157-02-03 10:29:46</td>\n",
       "      <td>Physician</td>\n",
       "      <td>Physician Attending Progress Note</td>\n",
       "      <td>16383.0</td>\n",
       "      <td>NaN</td>\n",
       "      <td>...</td>\n",
       "      <td>197325</td>\n",
       "      <td>82559</td>\n",
       "      <td>259299</td>\n",
       "      <td>F</td>\n",
       "      <td>WHITE</td>\n",
       "      <td>85.9256</td>\n",
       "      <td>Medicare</td>\n",
       "      <td>0</td>\n",
       "      <td>0</td>\n",
       "      <td>0.0</td>\n",
       "    </tr>\n",
       "    <tr>\n",
       "      <th>531</th>\n",
       "      <td>729747</td>\n",
       "      <td>82559</td>\n",
       "      <td>197325.0</td>\n",
       "      <td>2157-02-03</td>\n",
       "      <td>2157-02-03 07:46:00</td>\n",
       "      <td>2157-02-03 10:42:09</td>\n",
       "      <td>Physician</td>\n",
       "      <td>Physician Resident Progress Note</td>\n",
       "      <td>18480.0</td>\n",
       "      <td>NaN</td>\n",
       "      <td>...</td>\n",
       "      <td>197325</td>\n",
       "      <td>82559</td>\n",
       "      <td>259299</td>\n",
       "      <td>F</td>\n",
       "      <td>WHITE</td>\n",
       "      <td>85.9256</td>\n",
       "      <td>Medicare</td>\n",
       "      <td>0</td>\n",
       "      <td>0</td>\n",
       "      <td>0.0</td>\n",
       "    </tr>\n",
       "  </tbody>\n",
       "</table>\n",
       "<p>5 rows × 21 columns</p>\n",
       "</div>"
      ],
      "text/plain": [
       "     ROW_ID  SUBJECT_ID   HADM_ID   CHARTDATE            CHARTTIME  \\\n",
       "527  729404       82559  197325.0  2157-02-02  2157-02-02 00:59:00   \n",
       "528  729762       82559  197325.0  2157-02-03  2157-02-03 11:10:00   \n",
       "529  729768       82559  197325.0  2157-02-03  2157-02-03 11:10:00   \n",
       "530  729741       82559  197325.0  2157-02-03  2157-02-03 10:29:00   \n",
       "531  729747       82559  197325.0  2157-02-03  2157-02-03 07:46:00   \n",
       "\n",
       "               STORETIME    CATEGORY                        DESCRIPTION  \\\n",
       "527  2157-02-02 06:10:58     Nursing              Nursing Progress Note   \n",
       "528  2157-02-03 11:10:15     Nursing              Nursing Transfer Note   \n",
       "529  2157-02-03 11:56:06     Nursing              Nursing Transfer Note   \n",
       "530  2157-02-03 10:29:46  Physician   Physician Attending Progress Note   \n",
       "531  2157-02-03 10:42:09  Physician    Physician Resident Progress Note   \n",
       "\n",
       "        CGID  ISERROR  ... hadm_id  subject_id  icustay_id  gender ethnicity  \\\n",
       "527  16934.0      NaN  ...  197325       82559      259299       F     WHITE   \n",
       "528  15526.0      NaN  ...  197325       82559      259299       F     WHITE   \n",
       "529  15526.0      NaN  ...  197325       82559      259299       F     WHITE   \n",
       "530  16383.0      NaN  ...  197325       82559      259299       F     WHITE   \n",
       "531  18480.0      NaN  ...  197325       82559      259299       F     WHITE   \n",
       "\n",
       "         age  insurance mort_icu  readmission_30  los_3  \n",
       "527  85.9256   Medicare        0               0    0.0  \n",
       "528  85.9256   Medicare        0               0    0.0  \n",
       "529  85.9256   Medicare        0               0    0.0  \n",
       "530  85.9256   Medicare        0               0    0.0  \n",
       "531  85.9256   Medicare        0               0    0.0  \n",
       "\n",
       "[5 rows x 21 columns]"
      ]
     },
     "execution_count": 22,
     "metadata": {},
     "output_type": "execute_result"
    }
   ],
   "source": [
    "nurse_phys_df.head()"
   ]
  },
  {
   "cell_type": "code",
   "execution_count": 23,
   "metadata": {},
   "outputs": [
    {
     "data": {
      "text/plain": [
       "(136693, 21)"
      ]
     },
     "execution_count": 23,
     "metadata": {},
     "output_type": "execute_result"
    }
   ],
   "source": [
    "nurse_phys_df.shape"
   ]
  },
  {
   "cell_type": "code",
   "execution_count": 31,
   "metadata": {},
   "outputs": [],
   "source": [
    "nurse_phys_df_train,nurse_phys_df_val =  train_test_split(nurse_phys_df_train_val, test_size=0.2, random_state=42)"
   ]
  },
  {
   "cell_type": "markdown",
   "metadata": {},
   "source": [
    "## Create Pretraining Text Files"
   ]
  },
  {
   "cell_type": "code",
   "execution_count": 121,
   "metadata": {},
   "outputs": [],
   "source": [
    "with open('./data/mimic_notes/pretraining/nurse_phys_notes.raw.txt', 'w') as f:\n",
    "    f.write(nurse_phys_df['TEXT'].str.cat(sep='\\n'))"
   ]
  },
  {
   "cell_type": "markdown",
   "metadata": {},
   "source": [
    "## Create Mortality TSV Files for Finetuning"
   ]
  },
  {
   "cell_type": "code",
   "execution_count": 155,
   "metadata": {},
   "outputs": [],
   "source": [
    "nurse_phys_df_to_save = nurse_phys_df[['SUBJECT_ID','HADM_ID','gender','ethnicity','insurance','TEXT','readmission_30']]"
   ]
  },
  {
   "cell_type": "code",
   "execution_count": 156,
   "metadata": {},
   "outputs": [],
   "source": [
    "grouped_df = nurse_phys_df_to_save.astype(str).groupby(['SUBJECT_ID','HADM_ID','gender','ethnicity','insurance', 'readmission_30']).agg(' '.join).reset_index()\n",
    "                                                        \n",
    "                                                        "
   ]
  },
  {
   "cell_type": "code",
   "execution_count": null,
   "metadata": {},
   "outputs": [],
   "source": []
  },
  {
   "cell_type": "code",
   "execution_count": 157,
   "metadata": {},
   "outputs": [],
   "source": [
    "nurse_phys_df_train_dev, nurse_phys_df_test = train_test_split(grouped_df, test_size=0.2, random_state=42, stratify=grouped_df['readmission_30'])\n"
   ]
  },
  {
   "cell_type": "code",
   "execution_count": 158,
   "metadata": {},
   "outputs": [],
   "source": [
    "nurse_phys_df_train, nurse_phys_df_dev = train_test_split(nurse_phys_df_train_dev, test_size=0.15, random_state=42, stratify=nurse_phys_df_train_dev['readmission_30'])"
   ]
  },
  {
   "cell_type": "code",
   "execution_count": 159,
   "metadata": {},
   "outputs": [],
   "source": [
    "nurse_phys_df_train.to_csv('./data/mimic_notes/readmission_30/nurse_phys_notes_train.tsv', sep='\\t', index=False)"
   ]
  },
  {
   "cell_type": "code",
   "execution_count": 160,
   "metadata": {},
   "outputs": [],
   "source": [
    "nurse_phys_df_dev.to_csv('./data/mimic_notes/readmission_30/nurse_phys_notes_dev.tsv', sep='\\t', index=False)"
   ]
  },
  {
   "cell_type": "code",
   "execution_count": 161,
   "metadata": {},
   "outputs": [],
   "source": [
    "nurse_phys_df_test.to_csv('./data/mimic_notes/readmission_30/nurse_phys_notes_test.tsv', sep='\\t', index=False)"
   ]
  },
  {
   "cell_type": "markdown",
   "metadata": {},
   "source": [
    "## Create LOS > 3 TSV Files for Finetuning"
   ]
  },
  {
   "cell_type": "markdown",
   "metadata": {},
   "source": [
    "## Create Readmission in 30 TSV Files for Finetuning"
   ]
  },
  {
   "cell_type": "code",
   "execution_count": 36,
   "metadata": {},
   "outputs": [],
   "source": [
    "with open('./data/nurse_phys_notes_train.raw.txt', 'w') as f:\n",
    "    f.write(nurse_phys_df_train['TEXT'].str.cat(sep='\\n'))"
   ]
  },
  {
   "cell_type": "code",
   "execution_count": 37,
   "metadata": {},
   "outputs": [],
   "source": [
    "with open('./data/nurse_phys_notes_val.raw.txt', 'w') as f:\n",
    "    f.write(nurse_phys_df_val['TEXT'].str.cat(sep='\\n'))"
   ]
  },
  {
   "cell_type": "code",
   "execution_count": 38,
   "metadata": {},
   "outputs": [],
   "source": [
    "with open('./data/nurse_phys_notes_test.raw.txt', 'w') as f:\n",
    "    f.write(nurse_phys_df_test['TEXT'].str.cat(sep='\\n'))"
   ]
  },
  {
   "cell_type": "code",
   "execution_count": null,
   "metadata": {},
   "outputs": [],
   "source": []
  }
 ],
 "metadata": {
  "kernelspec": {
   "display_name": "Python 3",
   "language": "python",
   "name": "python3"
  },
  "language_info": {
   "codemirror_mode": {
    "name": "ipython",
    "version": 3
   },
   "file_extension": ".py",
   "mimetype": "text/x-python",
   "name": "python",
   "nbconvert_exporter": "python",
   "pygments_lexer": "ipython3",
   "version": "3.6.10"
  }
 },
 "nbformat": 4,
 "nbformat_minor": 2
}
